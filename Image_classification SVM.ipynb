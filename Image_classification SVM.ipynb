{
 "cells": [
  {
   "cell_type": "code",
   "execution_count": 1,
   "id": "2d7d5058",
   "metadata": {},
   "outputs": [],
   "source": [
    "import numpy as np\n",
    "import pandas as pd\n",
    "import os\n",
    "import string"
   ]
  },
  {
   "cell_type": "code",
   "execution_count": 2,
   "id": "576eb483",
   "metadata": {},
   "outputs": [],
   "source": [
    "dataset = pd.read_csv(\"plant_village.csv\")"
   ]
  },
  {
   "cell_type": "code",
   "execution_count": 25,
   "id": "2983c0c2",
   "metadata": {},
   "outputs": [
    {
     "data": {
      "text/plain": [
       "(2509, 11)"
      ]
     },
     "execution_count": 25,
     "metadata": {},
     "output_type": "execute_result"
    }
   ],
   "source": [
    "dataset.shape"
   ]
  },
  {
   "cell_type": "code",
   "execution_count": 3,
   "id": "1f78fac1",
   "metadata": {},
   "outputs": [
    {
     "data": {
      "text/html": [
       "<div>\n",
       "<style scoped>\n",
       "    .dataframe tbody tr th:only-of-type {\n",
       "        vertical-align: middle;\n",
       "    }\n",
       "\n",
       "    .dataframe tbody tr th {\n",
       "        vertical-align: top;\n",
       "    }\n",
       "\n",
       "    .dataframe thead th {\n",
       "        text-align: right;\n",
       "    }\n",
       "</style>\n",
       "<table border=\"1\" class=\"dataframe\">\n",
       "  <thead>\n",
       "    <tr style=\"text-align: right;\">\n",
       "      <th></th>\n",
       "      <th>Unnamed: 0</th>\n",
       "      <th>mean_r</th>\n",
       "      <th>mean_g</th>\n",
       "      <th>mean_b</th>\n",
       "      <th>stddev_r</th>\n",
       "      <th>stddev_g</th>\n",
       "      <th>stddev_b</th>\n",
       "      <th>contrast</th>\n",
       "      <th>correlation</th>\n",
       "      <th>inverse_difference_moments</th>\n",
       "      <th>entropy</th>\n",
       "    </tr>\n",
       "  </thead>\n",
       "  <tbody>\n",
       "    <tr>\n",
       "      <th>0</th>\n",
       "      <td>0</td>\n",
       "      <td>143.628139</td>\n",
       "      <td>163.091645</td>\n",
       "      <td>132.424275</td>\n",
       "      <td>92.721106</td>\n",
       "      <td>78.280898</td>\n",
       "      <td>101.403763</td>\n",
       "      <td>3.138494</td>\n",
       "      <td>0.999448</td>\n",
       "      <td>0.002081</td>\n",
       "      <td>7.592541</td>\n",
       "    </tr>\n",
       "    <tr>\n",
       "      <th>1</th>\n",
       "      <td>1</td>\n",
       "      <td>118.912270</td>\n",
       "      <td>151.174708</td>\n",
       "      <td>129.562485</td>\n",
       "      <td>84.366701</td>\n",
       "      <td>64.563455</td>\n",
       "      <td>79.800600</td>\n",
       "      <td>1.337433</td>\n",
       "      <td>0.999636</td>\n",
       "      <td>0.003639</td>\n",
       "      <td>7.038149</td>\n",
       "    </tr>\n",
       "    <tr>\n",
       "      <th>2</th>\n",
       "      <td>2</td>\n",
       "      <td>116.431613</td>\n",
       "      <td>142.523938</td>\n",
       "      <td>122.027771</td>\n",
       "      <td>80.931176</td>\n",
       "      <td>67.799022</td>\n",
       "      <td>78.896979</td>\n",
       "      <td>1.960031</td>\n",
       "      <td>0.999410</td>\n",
       "      <td>0.002953</td>\n",
       "      <td>7.323427</td>\n",
       "    </tr>\n",
       "    <tr>\n",
       "      <th>3</th>\n",
       "      <td>3</td>\n",
       "      <td>106.376446</td>\n",
       "      <td>142.620035</td>\n",
       "      <td>102.429757</td>\n",
       "      <td>79.219460</td>\n",
       "      <td>64.806924</td>\n",
       "      <td>81.410913</td>\n",
       "      <td>1.125903</td>\n",
       "      <td>0.999807</td>\n",
       "      <td>0.003066</td>\n",
       "      <td>7.475230</td>\n",
       "    </tr>\n",
       "    <tr>\n",
       "      <th>4</th>\n",
       "      <td>4</td>\n",
       "      <td>118.755585</td>\n",
       "      <td>151.164834</td>\n",
       "      <td>121.307393</td>\n",
       "      <td>72.251223</td>\n",
       "      <td>56.762526</td>\n",
       "      <td>72.204563</td>\n",
       "      <td>0.739602</td>\n",
       "      <td>0.999825</td>\n",
       "      <td>0.004292</td>\n",
       "      <td>7.115805</td>\n",
       "    </tr>\n",
       "    <tr>\n",
       "      <th>5</th>\n",
       "      <td>5</td>\n",
       "      <td>141.632253</td>\n",
       "      <td>168.572380</td>\n",
       "      <td>138.843976</td>\n",
       "      <td>86.979022</td>\n",
       "      <td>68.691003</td>\n",
       "      <td>90.868453</td>\n",
       "      <td>0.342664</td>\n",
       "      <td>0.999841</td>\n",
       "      <td>0.005186</td>\n",
       "      <td>7.024003</td>\n",
       "    </tr>\n",
       "    <tr>\n",
       "      <th>6</th>\n",
       "      <td>6</td>\n",
       "      <td>203.204149</td>\n",
       "      <td>209.274866</td>\n",
       "      <td>199.156575</td>\n",
       "      <td>76.023340</td>\n",
       "      <td>67.597308</td>\n",
       "      <td>81.379584</td>\n",
       "      <td>1.155420</td>\n",
       "      <td>0.999594</td>\n",
       "      <td>0.004104</td>\n",
       "      <td>7.246938</td>\n",
       "    </tr>\n",
       "    <tr>\n",
       "      <th>7</th>\n",
       "      <td>7</td>\n",
       "      <td>112.375152</td>\n",
       "      <td>133.037858</td>\n",
       "      <td>79.923141</td>\n",
       "      <td>57.200208</td>\n",
       "      <td>51.146548</td>\n",
       "      <td>68.317537</td>\n",
       "      <td>0.234519</td>\n",
       "      <td>0.999942</td>\n",
       "      <td>0.007960</td>\n",
       "      <td>6.860893</td>\n",
       "    </tr>\n",
       "    <tr>\n",
       "      <th>8</th>\n",
       "      <td>8</td>\n",
       "      <td>170.015529</td>\n",
       "      <td>183.970091</td>\n",
       "      <td>150.778666</td>\n",
       "      <td>87.025503</td>\n",
       "      <td>74.469464</td>\n",
       "      <td>103.677850</td>\n",
       "      <td>1.509348</td>\n",
       "      <td>0.999679</td>\n",
       "      <td>0.002089</td>\n",
       "      <td>7.559946</td>\n",
       "    </tr>\n",
       "    <tr>\n",
       "      <th>9</th>\n",
       "      <td>9</td>\n",
       "      <td>183.310146</td>\n",
       "      <td>194.334204</td>\n",
       "      <td>179.977173</td>\n",
       "      <td>83.778424</td>\n",
       "      <td>70.513008</td>\n",
       "      <td>87.320913</td>\n",
       "      <td>0.662624</td>\n",
       "      <td>0.999671</td>\n",
       "      <td>0.004110</td>\n",
       "      <td>7.010272</td>\n",
       "    </tr>\n",
       "    <tr>\n",
       "      <th>10</th>\n",
       "      <td>10</td>\n",
       "      <td>113.716107</td>\n",
       "      <td>145.223728</td>\n",
       "      <td>120.591133</td>\n",
       "      <td>80.632390</td>\n",
       "      <td>64.744856</td>\n",
       "      <td>78.009698</td>\n",
       "      <td>0.755620</td>\n",
       "      <td>0.999909</td>\n",
       "      <td>0.016606</td>\n",
       "      <td>6.925539</td>\n",
       "    </tr>\n",
       "    <tr>\n",
       "      <th>11</th>\n",
       "      <td>11</td>\n",
       "      <td>170.546923</td>\n",
       "      <td>174.450798</td>\n",
       "      <td>161.092394</td>\n",
       "      <td>89.898230</td>\n",
       "      <td>86.054255</td>\n",
       "      <td>99.358729</td>\n",
       "      <td>1.264694</td>\n",
       "      <td>0.999670</td>\n",
       "      <td>0.002241</td>\n",
       "      <td>7.398018</td>\n",
       "    </tr>\n",
       "    <tr>\n",
       "      <th>12</th>\n",
       "      <td>12</td>\n",
       "      <td>114.148708</td>\n",
       "      <td>143.970694</td>\n",
       "      <td>119.784186</td>\n",
       "      <td>77.917587</td>\n",
       "      <td>62.513184</td>\n",
       "      <td>73.975275</td>\n",
       "      <td>2.337044</td>\n",
       "      <td>0.999037</td>\n",
       "      <td>0.003198</td>\n",
       "      <td>6.965470</td>\n",
       "    </tr>\n",
       "    <tr>\n",
       "      <th>13</th>\n",
       "      <td>13</td>\n",
       "      <td>146.113404</td>\n",
       "      <td>168.530500</td>\n",
       "      <td>125.517334</td>\n",
       "      <td>80.379856</td>\n",
       "      <td>65.382197</td>\n",
       "      <td>94.660023</td>\n",
       "      <td>0.203436</td>\n",
       "      <td>0.999915</td>\n",
       "      <td>0.005921</td>\n",
       "      <td>7.114542</td>\n",
       "    </tr>\n",
       "    <tr>\n",
       "      <th>14</th>\n",
       "      <td>14</td>\n",
       "      <td>166.793253</td>\n",
       "      <td>178.847776</td>\n",
       "      <td>149.668188</td>\n",
       "      <td>79.273252</td>\n",
       "      <td>69.488054</td>\n",
       "      <td>92.478219</td>\n",
       "      <td>1.732262</td>\n",
       "      <td>0.999499</td>\n",
       "      <td>0.003390</td>\n",
       "      <td>7.321518</td>\n",
       "    </tr>\n",
       "    <tr>\n",
       "      <th>15</th>\n",
       "      <td>15</td>\n",
       "      <td>178.639519</td>\n",
       "      <td>187.682022</td>\n",
       "      <td>161.348851</td>\n",
       "      <td>86.704068</td>\n",
       "      <td>77.535496</td>\n",
       "      <td>103.002609</td>\n",
       "      <td>2.710023</td>\n",
       "      <td>0.999573</td>\n",
       "      <td>0.001937</td>\n",
       "      <td>7.606813</td>\n",
       "    </tr>\n",
       "    <tr>\n",
       "      <th>16</th>\n",
       "      <td>16</td>\n",
       "      <td>109.301106</td>\n",
       "      <td>115.465184</td>\n",
       "      <td>103.854096</td>\n",
       "      <td>81.514794</td>\n",
       "      <td>78.874603</td>\n",
       "      <td>84.673206</td>\n",
       "      <td>3.092812</td>\n",
       "      <td>0.999175</td>\n",
       "      <td>0.003588</td>\n",
       "      <td>7.175403</td>\n",
       "    </tr>\n",
       "    <tr>\n",
       "      <th>17</th>\n",
       "      <td>17</td>\n",
       "      <td>111.561932</td>\n",
       "      <td>164.113639</td>\n",
       "      <td>73.962304</td>\n",
       "      <td>49.332450</td>\n",
       "      <td>32.607086</td>\n",
       "      <td>60.076847</td>\n",
       "      <td>0.587104</td>\n",
       "      <td>0.999708</td>\n",
       "      <td>0.008504</td>\n",
       "      <td>6.661468</td>\n",
       "    </tr>\n",
       "    <tr>\n",
       "      <th>18</th>\n",
       "      <td>18</td>\n",
       "      <td>147.960241</td>\n",
       "      <td>162.724784</td>\n",
       "      <td>142.583096</td>\n",
       "      <td>88.312567</td>\n",
       "      <td>76.620322</td>\n",
       "      <td>90.356932</td>\n",
       "      <td>3.652845</td>\n",
       "      <td>0.999450</td>\n",
       "      <td>0.001933</td>\n",
       "      <td>7.623266</td>\n",
       "    </tr>\n",
       "    <tr>\n",
       "      <th>19</th>\n",
       "      <td>19</td>\n",
       "      <td>110.358579</td>\n",
       "      <td>137.011129</td>\n",
       "      <td>83.473764</td>\n",
       "      <td>68.133456</td>\n",
       "      <td>57.623122</td>\n",
       "      <td>75.246618</td>\n",
       "      <td>0.197547</td>\n",
       "      <td>0.999960</td>\n",
       "      <td>0.005786</td>\n",
       "      <td>7.301497</td>\n",
       "    </tr>\n",
       "  </tbody>\n",
       "</table>\n",
       "</div>"
      ],
      "text/plain": [
       "    Unnamed: 0      mean_r      mean_g      mean_b   stddev_r   stddev_g  \\\n",
       "0            0  143.628139  163.091645  132.424275  92.721106  78.280898   \n",
       "1            1  118.912270  151.174708  129.562485  84.366701  64.563455   \n",
       "2            2  116.431613  142.523938  122.027771  80.931176  67.799022   \n",
       "3            3  106.376446  142.620035  102.429757  79.219460  64.806924   \n",
       "4            4  118.755585  151.164834  121.307393  72.251223  56.762526   \n",
       "5            5  141.632253  168.572380  138.843976  86.979022  68.691003   \n",
       "6            6  203.204149  209.274866  199.156575  76.023340  67.597308   \n",
       "7            7  112.375152  133.037858   79.923141  57.200208  51.146548   \n",
       "8            8  170.015529  183.970091  150.778666  87.025503  74.469464   \n",
       "9            9  183.310146  194.334204  179.977173  83.778424  70.513008   \n",
       "10          10  113.716107  145.223728  120.591133  80.632390  64.744856   \n",
       "11          11  170.546923  174.450798  161.092394  89.898230  86.054255   \n",
       "12          12  114.148708  143.970694  119.784186  77.917587  62.513184   \n",
       "13          13  146.113404  168.530500  125.517334  80.379856  65.382197   \n",
       "14          14  166.793253  178.847776  149.668188  79.273252  69.488054   \n",
       "15          15  178.639519  187.682022  161.348851  86.704068  77.535496   \n",
       "16          16  109.301106  115.465184  103.854096  81.514794  78.874603   \n",
       "17          17  111.561932  164.113639   73.962304  49.332450  32.607086   \n",
       "18          18  147.960241  162.724784  142.583096  88.312567  76.620322   \n",
       "19          19  110.358579  137.011129   83.473764  68.133456  57.623122   \n",
       "\n",
       "      stddev_b  contrast  correlation  inverse_difference_moments   entropy  \n",
       "0   101.403763  3.138494     0.999448                    0.002081  7.592541  \n",
       "1    79.800600  1.337433     0.999636                    0.003639  7.038149  \n",
       "2    78.896979  1.960031     0.999410                    0.002953  7.323427  \n",
       "3    81.410913  1.125903     0.999807                    0.003066  7.475230  \n",
       "4    72.204563  0.739602     0.999825                    0.004292  7.115805  \n",
       "5    90.868453  0.342664     0.999841                    0.005186  7.024003  \n",
       "6    81.379584  1.155420     0.999594                    0.004104  7.246938  \n",
       "7    68.317537  0.234519     0.999942                    0.007960  6.860893  \n",
       "8   103.677850  1.509348     0.999679                    0.002089  7.559946  \n",
       "9    87.320913  0.662624     0.999671                    0.004110  7.010272  \n",
       "10   78.009698  0.755620     0.999909                    0.016606  6.925539  \n",
       "11   99.358729  1.264694     0.999670                    0.002241  7.398018  \n",
       "12   73.975275  2.337044     0.999037                    0.003198  6.965470  \n",
       "13   94.660023  0.203436     0.999915                    0.005921  7.114542  \n",
       "14   92.478219  1.732262     0.999499                    0.003390  7.321518  \n",
       "15  103.002609  2.710023     0.999573                    0.001937  7.606813  \n",
       "16   84.673206  3.092812     0.999175                    0.003588  7.175403  \n",
       "17   60.076847  0.587104     0.999708                    0.008504  6.661468  \n",
       "18   90.356932  3.652845     0.999450                    0.001933  7.623266  \n",
       "19   75.246618  0.197547     0.999960                    0.005786  7.301497  "
      ]
     },
     "execution_count": 3,
     "metadata": {},
     "output_type": "execute_result"
    }
   ],
   "source": [
    "dataset.head(20)"
   ]
  },
  {
   "cell_type": "code",
   "execution_count": 16,
   "id": "238294c9",
   "metadata": {},
   "outputs": [
    {
     "data": {
      "text/html": [
       "<div>\n",
       "<style scoped>\n",
       "    .dataframe tbody tr th:only-of-type {\n",
       "        vertical-align: middle;\n",
       "    }\n",
       "\n",
       "    .dataframe tbody tr th {\n",
       "        vertical-align: top;\n",
       "    }\n",
       "\n",
       "    .dataframe thead th {\n",
       "        text-align: right;\n",
       "    }\n",
       "</style>\n",
       "<table border=\"1\" class=\"dataframe\">\n",
       "  <thead>\n",
       "    <tr style=\"text-align: right;\">\n",
       "      <th></th>\n",
       "      <th>Unnamed: 0</th>\n",
       "      <th>mean_r</th>\n",
       "      <th>mean_g</th>\n",
       "      <th>mean_b</th>\n",
       "      <th>stddev_r</th>\n",
       "      <th>stddev_g</th>\n",
       "      <th>stddev_b</th>\n",
       "      <th>contrast</th>\n",
       "      <th>correlation</th>\n",
       "      <th>inverse_difference_moments</th>\n",
       "      <th>entropy</th>\n",
       "    </tr>\n",
       "  </thead>\n",
       "  <tbody>\n",
       "    <tr>\n",
       "      <th>count</th>\n",
       "      <td>2509.000000</td>\n",
       "      <td>2509.000000</td>\n",
       "      <td>2509.000000</td>\n",
       "      <td>2509.000000</td>\n",
       "      <td>2509.000000</td>\n",
       "      <td>2509.000000</td>\n",
       "      <td>2509.000000</td>\n",
       "      <td>2509.000000</td>\n",
       "      <td>2509.000000</td>\n",
       "      <td>2509.000000</td>\n",
       "      <td>2509.000000</td>\n",
       "    </tr>\n",
       "    <tr>\n",
       "      <th>mean</th>\n",
       "      <td>1254.000000</td>\n",
       "      <td>138.196084</td>\n",
       "      <td>159.882883</td>\n",
       "      <td>128.154058</td>\n",
       "      <td>77.909062</td>\n",
       "      <td>65.397371</td>\n",
       "      <td>84.125848</td>\n",
       "      <td>1.517186</td>\n",
       "      <td>0.999638</td>\n",
       "      <td>0.004109</td>\n",
       "      <td>7.218684</td>\n",
       "    </tr>\n",
       "    <tr>\n",
       "      <th>std</th>\n",
       "      <td>724.430236</td>\n",
       "      <td>35.074118</td>\n",
       "      <td>28.999356</td>\n",
       "      <td>36.400976</td>\n",
       "      <td>14.209658</td>\n",
       "      <td>12.990096</td>\n",
       "      <td>16.655697</td>\n",
       "      <td>1.622748</td>\n",
       "      <td>0.000303</td>\n",
       "      <td>0.001761</td>\n",
       "      <td>0.261793</td>\n",
       "    </tr>\n",
       "    <tr>\n",
       "      <th>min</th>\n",
       "      <td>0.000000</td>\n",
       "      <td>41.419349</td>\n",
       "      <td>74.127600</td>\n",
       "      <td>47.791630</td>\n",
       "      <td>1.080517</td>\n",
       "      <td>1.315714</td>\n",
       "      <td>1.308593</td>\n",
       "      <td>0.130319</td>\n",
       "      <td>0.996853</td>\n",
       "      <td>0.000907</td>\n",
       "      <td>6.196894</td>\n",
       "    </tr>\n",
       "    <tr>\n",
       "      <th>25%</th>\n",
       "      <td>627.000000</td>\n",
       "      <td>112.375152</td>\n",
       "      <td>140.056006</td>\n",
       "      <td>102.018543</td>\n",
       "      <td>70.920961</td>\n",
       "      <td>58.803602</td>\n",
       "      <td>74.693091</td>\n",
       "      <td>0.588525</td>\n",
       "      <td>0.999540</td>\n",
       "      <td>0.002962</td>\n",
       "      <td>7.048581</td>\n",
       "    </tr>\n",
       "    <tr>\n",
       "      <th>50%</th>\n",
       "      <td>1254.000000</td>\n",
       "      <td>133.538853</td>\n",
       "      <td>157.173670</td>\n",
       "      <td>123.242036</td>\n",
       "      <td>80.440263</td>\n",
       "      <td>66.445585</td>\n",
       "      <td>87.063772</td>\n",
       "      <td>0.991849</td>\n",
       "      <td>0.999725</td>\n",
       "      <td>0.003865</td>\n",
       "      <td>7.235518</td>\n",
       "    </tr>\n",
       "    <tr>\n",
       "      <th>75%</th>\n",
       "      <td>1881.000000</td>\n",
       "      <td>159.696649</td>\n",
       "      <td>177.191966</td>\n",
       "      <td>148.600594</td>\n",
       "      <td>87.255843</td>\n",
       "      <td>73.384562</td>\n",
       "      <td>96.064986</td>\n",
       "      <td>1.767281</td>\n",
       "      <td>0.999840</td>\n",
       "      <td>0.004971</td>\n",
       "      <td>7.407031</td>\n",
       "    </tr>\n",
       "    <tr>\n",
       "      <th>max</th>\n",
       "      <td>2508.000000</td>\n",
       "      <td>254.992027</td>\n",
       "      <td>254.990174</td>\n",
       "      <td>254.990206</td>\n",
       "      <td>110.859605</td>\n",
       "      <td>106.073134</td>\n",
       "      <td>114.353557</td>\n",
       "      <td>19.981040</td>\n",
       "      <td>0.999976</td>\n",
       "      <td>0.027407</td>\n",
       "      <td>7.800592</td>\n",
       "    </tr>\n",
       "  </tbody>\n",
       "</table>\n",
       "</div>"
      ],
      "text/plain": [
       "        Unnamed: 0       mean_r       mean_g       mean_b     stddev_r  \\\n",
       "count  2509.000000  2509.000000  2509.000000  2509.000000  2509.000000   \n",
       "mean   1254.000000   138.196084   159.882883   128.154058    77.909062   \n",
       "std     724.430236    35.074118    28.999356    36.400976    14.209658   \n",
       "min       0.000000    41.419349    74.127600    47.791630     1.080517   \n",
       "25%     627.000000   112.375152   140.056006   102.018543    70.920961   \n",
       "50%    1254.000000   133.538853   157.173670   123.242036    80.440263   \n",
       "75%    1881.000000   159.696649   177.191966   148.600594    87.255843   \n",
       "max    2508.000000   254.992027   254.990174   254.990206   110.859605   \n",
       "\n",
       "          stddev_g     stddev_b     contrast  correlation  \\\n",
       "count  2509.000000  2509.000000  2509.000000  2509.000000   \n",
       "mean     65.397371    84.125848     1.517186     0.999638   \n",
       "std      12.990096    16.655697     1.622748     0.000303   \n",
       "min       1.315714     1.308593     0.130319     0.996853   \n",
       "25%      58.803602    74.693091     0.588525     0.999540   \n",
       "50%      66.445585    87.063772     0.991849     0.999725   \n",
       "75%      73.384562    96.064986     1.767281     0.999840   \n",
       "max     106.073134   114.353557    19.981040     0.999976   \n",
       "\n",
       "       inverse_difference_moments      entropy  \n",
       "count                 2509.000000  2509.000000  \n",
       "mean                     0.004109     7.218684  \n",
       "std                      0.001761     0.261793  \n",
       "min                      0.000907     6.196894  \n",
       "25%                      0.002962     7.048581  \n",
       "50%                      0.003865     7.235518  \n",
       "75%                      0.004971     7.407031  \n",
       "max                      0.027407     7.800592  "
      ]
     },
     "execution_count": 16,
     "metadata": {},
     "output_type": "execute_result"
    }
   ],
   "source": [
    "dataset.describe()"
   ]
  },
  {
   "cell_type": "code",
   "execution_count": 4,
   "id": "7e222768",
   "metadata": {},
   "outputs": [],
   "source": [
    "ds_path = r\"F:\\Jup\\Celebal Assignments\\Untitled Folder\\plant-pathology-2020-fgvc7\\images\""
   ]
  },
  {
   "cell_type": "code",
   "execution_count": 5,
   "id": "434c00b6",
   "metadata": {},
   "outputs": [],
   "source": [
    "img_files=os.listdir(ds_path)"
   ]
  },
  {
   "cell_type": "code",
   "execution_count": 6,
   "id": "8a2dc518",
   "metadata": {},
   "outputs": [
    {
     "data": {
      "text/plain": [
       "'Test_0.jpg'"
      ]
     },
     "execution_count": 6,
     "metadata": {},
     "output_type": "execute_result"
    }
   ],
   "source": [
    "img_files[0]"
   ]
  },
  {
   "cell_type": "code",
   "execution_count": 37,
   "id": "ef5f239c",
   "metadata": {},
   "outputs": [],
   "source": [
    "breakpoints = [0, 501, 502, 1003, 1004, 1505, 1506, 2007, 2008, 2508]\n",
    "\n",
    "target_list = []\n",
    "X_list = []  # List to hold corresponding features\n",
    "\n",
    "for file in img_files:\n",
    "    target_num = int(file.split(\"_\")[1].split(\".\")[0])  \n",
    "    flag = 0\n",
    "    i = 0 \n",
    "    for i in range(0, len(breakpoints), 2):\n",
    "        if (target_num >= breakpoints[i] and target_num <= breakpoints[i+1]):\n",
    "            flag = 1\n",
    "            break\n",
    "    \n",
    "    if flag == 1:\n",
    "        target = int(i / 2)\n",
    "        target_list.append(target)\n",
    "        # Assuming dataset is a DataFrame where each row corresponds to an image\n",
    "        features = dataset.iloc[target_num]  # Assuming target_num corresponds to the row index\n",
    "        X_list.append(features)\n",
    "\n",
    "y = np.array(target_list)\n",
    "X = np.array(X_list)\n"
   ]
  },
  {
   "cell_type": "code",
   "execution_count": 27,
   "id": "15312cde",
   "metadata": {},
   "outputs": [
    {
     "data": {
      "text/plain": [
       "array([0, 0, 0, ..., 3, 3, 3])"
      ]
     },
     "execution_count": 27,
     "metadata": {},
     "output_type": "execute_result"
    }
   ],
   "source": []
  },
  {
   "cell_type": "code",
   "execution_count": 38,
   "id": "7080e4c5",
   "metadata": {},
   "outputs": [],
   "source": [
    "from sklearn.model_selection import train_test_split"
   ]
  },
  {
   "cell_type": "code",
   "execution_count": 39,
   "id": "e414cf03",
   "metadata": {
    "scrolled": true
   },
   "outputs": [],
   "source": [
    "X_train, X_test, y_train, y_test = train_test_split(X, y, test_size=0.2, random_state =122)\n"
   ]
  },
  {
   "cell_type": "code",
   "execution_count": 45,
   "id": "68369672",
   "metadata": {},
   "outputs": [],
   "source": [
    "from sklearn.preprocessing import StandardScaler"
   ]
  },
  {
   "cell_type": "code",
   "execution_count": 46,
   "id": "086331bb",
   "metadata": {},
   "outputs": [],
   "source": [
    "sc_X = StandardScaler()\n",
    "X_train = sc_X.fit_transform(X_train)\n",
    "X_test = sc_X.transform(X_test)"
   ]
  },
  {
   "cell_type": "code",
   "execution_count": 47,
   "id": "999cbe79",
   "metadata": {},
   "outputs": [],
   "source": [
    "from sklearn import svm"
   ]
  },
  {
   "cell_type": "code",
   "execution_count": 48,
   "id": "c108bcb9",
   "metadata": {},
   "outputs": [
    {
     "data": {
      "text/html": [
       "<style>#sk-container-id-1 {color: black;background-color: white;}#sk-container-id-1 pre{padding: 0;}#sk-container-id-1 div.sk-toggleable {background-color: white;}#sk-container-id-1 label.sk-toggleable__label {cursor: pointer;display: block;width: 100%;margin-bottom: 0;padding: 0.3em;box-sizing: border-box;text-align: center;}#sk-container-id-1 label.sk-toggleable__label-arrow:before {content: \"▸\";float: left;margin-right: 0.25em;color: #696969;}#sk-container-id-1 label.sk-toggleable__label-arrow:hover:before {color: black;}#sk-container-id-1 div.sk-estimator:hover label.sk-toggleable__label-arrow:before {color: black;}#sk-container-id-1 div.sk-toggleable__content {max-height: 0;max-width: 0;overflow: hidden;text-align: left;background-color: #f0f8ff;}#sk-container-id-1 div.sk-toggleable__content pre {margin: 0.2em;color: black;border-radius: 0.25em;background-color: #f0f8ff;}#sk-container-id-1 input.sk-toggleable__control:checked~div.sk-toggleable__content {max-height: 200px;max-width: 100%;overflow: auto;}#sk-container-id-1 input.sk-toggleable__control:checked~label.sk-toggleable__label-arrow:before {content: \"▾\";}#sk-container-id-1 div.sk-estimator input.sk-toggleable__control:checked~label.sk-toggleable__label {background-color: #d4ebff;}#sk-container-id-1 div.sk-label input.sk-toggleable__control:checked~label.sk-toggleable__label {background-color: #d4ebff;}#sk-container-id-1 input.sk-hidden--visually {border: 0;clip: rect(1px 1px 1px 1px);clip: rect(1px, 1px, 1px, 1px);height: 1px;margin: -1px;overflow: hidden;padding: 0;position: absolute;width: 1px;}#sk-container-id-1 div.sk-estimator {font-family: monospace;background-color: #f0f8ff;border: 1px dotted black;border-radius: 0.25em;box-sizing: border-box;margin-bottom: 0.5em;}#sk-container-id-1 div.sk-estimator:hover {background-color: #d4ebff;}#sk-container-id-1 div.sk-parallel-item::after {content: \"\";width: 100%;border-bottom: 1px solid gray;flex-grow: 1;}#sk-container-id-1 div.sk-label:hover label.sk-toggleable__label {background-color: #d4ebff;}#sk-container-id-1 div.sk-serial::before {content: \"\";position: absolute;border-left: 1px solid gray;box-sizing: border-box;top: 0;bottom: 0;left: 50%;z-index: 0;}#sk-container-id-1 div.sk-serial {display: flex;flex-direction: column;align-items: center;background-color: white;padding-right: 0.2em;padding-left: 0.2em;position: relative;}#sk-container-id-1 div.sk-item {position: relative;z-index: 1;}#sk-container-id-1 div.sk-parallel {display: flex;align-items: stretch;justify-content: center;background-color: white;position: relative;}#sk-container-id-1 div.sk-item::before, #sk-container-id-1 div.sk-parallel-item::before {content: \"\";position: absolute;border-left: 1px solid gray;box-sizing: border-box;top: 0;bottom: 0;left: 50%;z-index: -1;}#sk-container-id-1 div.sk-parallel-item {display: flex;flex-direction: column;z-index: 1;position: relative;background-color: white;}#sk-container-id-1 div.sk-parallel-item:first-child::after {align-self: flex-end;width: 50%;}#sk-container-id-1 div.sk-parallel-item:last-child::after {align-self: flex-start;width: 50%;}#sk-container-id-1 div.sk-parallel-item:only-child::after {width: 0;}#sk-container-id-1 div.sk-dashed-wrapped {border: 1px dashed gray;margin: 0 0.4em 0.5em 0.4em;box-sizing: border-box;padding-bottom: 0.4em;background-color: white;}#sk-container-id-1 div.sk-label label {font-family: monospace;font-weight: bold;display: inline-block;line-height: 1.2em;}#sk-container-id-1 div.sk-label-container {text-align: center;}#sk-container-id-1 div.sk-container {/* jupyter's `normalize.less` sets `[hidden] { display: none; }` but bootstrap.min.css set `[hidden] { display: none !important; }` so we also need the `!important` here to be able to override the default hidden behavior on the sphinx rendered scikit-learn.org. See: https://github.com/scikit-learn/scikit-learn/issues/21755 */display: inline-block !important;position: relative;}#sk-container-id-1 div.sk-text-repr-fallback {display: none;}</style><div id=\"sk-container-id-1\" class=\"sk-top-container\"><div class=\"sk-text-repr-fallback\"><pre>SVC(C=100.0, gamma=0.01)</pre><b>In a Jupyter environment, please rerun this cell to show the HTML representation or trust the notebook. <br />On GitHub, the HTML representation is unable to render, please try loading this page with nbviewer.org.</b></div><div class=\"sk-container\" hidden><div class=\"sk-item\"><div class=\"sk-estimator sk-toggleable\"><input class=\"sk-toggleable__control sk-hidden--visually\" id=\"sk-estimator-id-1\" type=\"checkbox\" checked><label for=\"sk-estimator-id-1\" class=\"sk-toggleable__label sk-toggleable__label-arrow\">SVC</label><div class=\"sk-toggleable__content\"><pre>SVC(C=100.0, gamma=0.01)</pre></div></div></div></div></div>"
      ],
      "text/plain": [
       "SVC(C=100.0, gamma=0.01)"
      ]
     },
     "execution_count": 48,
     "metadata": {},
     "output_type": "execute_result"
    }
   ],
   "source": [
    "clf = svm.SVC(C=100.0, cache_size=200, class_weight=None, coef0=0.0,\n",
    "  decision_function_shape='ovr', degree=3, gamma=0.01, kernel='rbf',\n",
    "  max_iter=-1, probability=False, random_state=None, shrinking=True,\n",
    "  tol=0.001, verbose=False)\n",
    "clf.fit(X_train,y_train)"
   ]
  },
  {
   "cell_type": "code",
   "execution_count": 49,
   "id": "18a283c2",
   "metadata": {},
   "outputs": [],
   "source": [
    "y_pred = clf.predict(X_test)"
   ]
  },
  {
   "cell_type": "code",
   "execution_count": 51,
   "id": "a959838d",
   "metadata": {},
   "outputs": [],
   "source": [
    "from sklearn import metrics"
   ]
  },
  {
   "cell_type": "code",
   "execution_count": 52,
   "id": "d7547b1e",
   "metadata": {},
   "outputs": [
    {
     "data": {
      "text/plain": [
       "0.9876543209876543"
      ]
     },
     "execution_count": 52,
     "metadata": {},
     "output_type": "execute_result"
    }
   ],
   "source": [
    "metrics.accuracy_score(y_test, y_pred)"
   ]
  },
  {
   "cell_type": "code",
   "execution_count": 53,
   "id": "4dfa4a54",
   "metadata": {},
   "outputs": [],
   "source": [
    "from sklearn.model_selection import GridSearchCV"
   ]
  },
  {
   "cell_type": "code",
   "execution_count": 54,
   "id": "b4701740",
   "metadata": {},
   "outputs": [],
   "source": [
    "parameters = [{'kernel': ['rbf'],\n",
    "               'gamma': [1e-4, 1e-3, 0.01, 0.1, 0.2, 0.5],\n",
    "               'C': [1, 10, 100, 1000]},\n",
    "              {'kernel': ['linear'], 'C': [1, 10, 100, 1000]}\n",
    "             ]"
   ]
  },
  {
   "cell_type": "code",
   "execution_count": 55,
   "id": "d46c30b4",
   "metadata": {},
   "outputs": [
    {
     "data": {
      "text/html": [
       "<style>#sk-container-id-2 {color: black;background-color: white;}#sk-container-id-2 pre{padding: 0;}#sk-container-id-2 div.sk-toggleable {background-color: white;}#sk-container-id-2 label.sk-toggleable__label {cursor: pointer;display: block;width: 100%;margin-bottom: 0;padding: 0.3em;box-sizing: border-box;text-align: center;}#sk-container-id-2 label.sk-toggleable__label-arrow:before {content: \"▸\";float: left;margin-right: 0.25em;color: #696969;}#sk-container-id-2 label.sk-toggleable__label-arrow:hover:before {color: black;}#sk-container-id-2 div.sk-estimator:hover label.sk-toggleable__label-arrow:before {color: black;}#sk-container-id-2 div.sk-toggleable__content {max-height: 0;max-width: 0;overflow: hidden;text-align: left;background-color: #f0f8ff;}#sk-container-id-2 div.sk-toggleable__content pre {margin: 0.2em;color: black;border-radius: 0.25em;background-color: #f0f8ff;}#sk-container-id-2 input.sk-toggleable__control:checked~div.sk-toggleable__content {max-height: 200px;max-width: 100%;overflow: auto;}#sk-container-id-2 input.sk-toggleable__control:checked~label.sk-toggleable__label-arrow:before {content: \"▾\";}#sk-container-id-2 div.sk-estimator input.sk-toggleable__control:checked~label.sk-toggleable__label {background-color: #d4ebff;}#sk-container-id-2 div.sk-label input.sk-toggleable__control:checked~label.sk-toggleable__label {background-color: #d4ebff;}#sk-container-id-2 input.sk-hidden--visually {border: 0;clip: rect(1px 1px 1px 1px);clip: rect(1px, 1px, 1px, 1px);height: 1px;margin: -1px;overflow: hidden;padding: 0;position: absolute;width: 1px;}#sk-container-id-2 div.sk-estimator {font-family: monospace;background-color: #f0f8ff;border: 1px dotted black;border-radius: 0.25em;box-sizing: border-box;margin-bottom: 0.5em;}#sk-container-id-2 div.sk-estimator:hover {background-color: #d4ebff;}#sk-container-id-2 div.sk-parallel-item::after {content: \"\";width: 100%;border-bottom: 1px solid gray;flex-grow: 1;}#sk-container-id-2 div.sk-label:hover label.sk-toggleable__label {background-color: #d4ebff;}#sk-container-id-2 div.sk-serial::before {content: \"\";position: absolute;border-left: 1px solid gray;box-sizing: border-box;top: 0;bottom: 0;left: 50%;z-index: 0;}#sk-container-id-2 div.sk-serial {display: flex;flex-direction: column;align-items: center;background-color: white;padding-right: 0.2em;padding-left: 0.2em;position: relative;}#sk-container-id-2 div.sk-item {position: relative;z-index: 1;}#sk-container-id-2 div.sk-parallel {display: flex;align-items: stretch;justify-content: center;background-color: white;position: relative;}#sk-container-id-2 div.sk-item::before, #sk-container-id-2 div.sk-parallel-item::before {content: \"\";position: absolute;border-left: 1px solid gray;box-sizing: border-box;top: 0;bottom: 0;left: 50%;z-index: -1;}#sk-container-id-2 div.sk-parallel-item {display: flex;flex-direction: column;z-index: 1;position: relative;background-color: white;}#sk-container-id-2 div.sk-parallel-item:first-child::after {align-self: flex-end;width: 50%;}#sk-container-id-2 div.sk-parallel-item:last-child::after {align-self: flex-start;width: 50%;}#sk-container-id-2 div.sk-parallel-item:only-child::after {width: 0;}#sk-container-id-2 div.sk-dashed-wrapped {border: 1px dashed gray;margin: 0 0.4em 0.5em 0.4em;box-sizing: border-box;padding-bottom: 0.4em;background-color: white;}#sk-container-id-2 div.sk-label label {font-family: monospace;font-weight: bold;display: inline-block;line-height: 1.2em;}#sk-container-id-2 div.sk-label-container {text-align: center;}#sk-container-id-2 div.sk-container {/* jupyter's `normalize.less` sets `[hidden] { display: none; }` but bootstrap.min.css set `[hidden] { display: none !important; }` so we also need the `!important` here to be able to override the default hidden behavior on the sphinx rendered scikit-learn.org. See: https://github.com/scikit-learn/scikit-learn/issues/21755 */display: inline-block !important;position: relative;}#sk-container-id-2 div.sk-text-repr-fallback {display: none;}</style><div id=\"sk-container-id-2\" class=\"sk-top-container\"><div class=\"sk-text-repr-fallback\"><pre>GridSearchCV(cv=5, estimator=SVC(),\n",
       "             param_grid=[{&#x27;C&#x27;: [1, 10, 100, 1000],\n",
       "                          &#x27;gamma&#x27;: [0.0001, 0.001, 0.01, 0.1, 0.2, 0.5],\n",
       "                          &#x27;kernel&#x27;: [&#x27;rbf&#x27;]},\n",
       "                         {&#x27;C&#x27;: [1, 10, 100, 1000], &#x27;kernel&#x27;: [&#x27;linear&#x27;]}])</pre><b>In a Jupyter environment, please rerun this cell to show the HTML representation or trust the notebook. <br />On GitHub, the HTML representation is unable to render, please try loading this page with nbviewer.org.</b></div><div class=\"sk-container\" hidden><div class=\"sk-item sk-dashed-wrapped\"><div class=\"sk-label-container\"><div class=\"sk-label sk-toggleable\"><input class=\"sk-toggleable__control sk-hidden--visually\" id=\"sk-estimator-id-2\" type=\"checkbox\" ><label for=\"sk-estimator-id-2\" class=\"sk-toggleable__label sk-toggleable__label-arrow\">GridSearchCV</label><div class=\"sk-toggleable__content\"><pre>GridSearchCV(cv=5, estimator=SVC(),\n",
       "             param_grid=[{&#x27;C&#x27;: [1, 10, 100, 1000],\n",
       "                          &#x27;gamma&#x27;: [0.0001, 0.001, 0.01, 0.1, 0.2, 0.5],\n",
       "                          &#x27;kernel&#x27;: [&#x27;rbf&#x27;]},\n",
       "                         {&#x27;C&#x27;: [1, 10, 100, 1000], &#x27;kernel&#x27;: [&#x27;linear&#x27;]}])</pre></div></div></div><div class=\"sk-parallel\"><div class=\"sk-parallel-item\"><div class=\"sk-item\"><div class=\"sk-label-container\"><div class=\"sk-label sk-toggleable\"><input class=\"sk-toggleable__control sk-hidden--visually\" id=\"sk-estimator-id-3\" type=\"checkbox\" ><label for=\"sk-estimator-id-3\" class=\"sk-toggleable__label sk-toggleable__label-arrow\">estimator: SVC</label><div class=\"sk-toggleable__content\"><pre>SVC()</pre></div></div></div><div class=\"sk-serial\"><div class=\"sk-item\"><div class=\"sk-estimator sk-toggleable\"><input class=\"sk-toggleable__control sk-hidden--visually\" id=\"sk-estimator-id-4\" type=\"checkbox\" ><label for=\"sk-estimator-id-4\" class=\"sk-toggleable__label sk-toggleable__label-arrow\">SVC</label><div class=\"sk-toggleable__content\"><pre>SVC()</pre></div></div></div></div></div></div></div></div></div></div>"
      ],
      "text/plain": [
       "GridSearchCV(cv=5, estimator=SVC(),\n",
       "             param_grid=[{'C': [1, 10, 100, 1000],\n",
       "                          'gamma': [0.0001, 0.001, 0.01, 0.1, 0.2, 0.5],\n",
       "                          'kernel': ['rbf']},\n",
       "                         {'C': [1, 10, 100, 1000], 'kernel': ['linear']}])"
      ]
     },
     "execution_count": 55,
     "metadata": {},
     "output_type": "execute_result"
    }
   ],
   "source": [
    "svm_clf = GridSearchCV(svm.SVC(decision_function_shape='ovr'), parameters, cv=5)\n",
    "svm_clf.fit(X_train, y_train)"
   ]
  },
  {
   "cell_type": "code",
   "execution_count": 56,
   "id": "55e49c83",
   "metadata": {},
   "outputs": [
    {
     "data": {
      "text/plain": [
       "{'C': 1000, 'kernel': 'linear'}"
      ]
     },
     "execution_count": 56,
     "metadata": {},
     "output_type": "execute_result"
    }
   ],
   "source": [
    "svm_clf.best_params_"
   ]
  },
  {
   "cell_type": "code",
   "execution_count": 57,
   "id": "ddcf4989",
   "metadata": {},
   "outputs": [
    {
     "name": "stdout",
     "output_type": "stream",
     "text": [
      "              precision    recall  f1-score   support\n",
      "\n",
      "           0       0.99      0.99      0.99       187\n",
      "           1       0.99      0.99      0.99       203\n",
      "           2       0.99      0.99      0.99       203\n",
      "           3       0.99      0.99      0.99       136\n",
      "\n",
      "    accuracy                           0.99       729\n",
      "   macro avg       0.99      0.99      0.99       729\n",
      "weighted avg       0.99      0.99      0.99       729\n",
      "\n"
     ]
    }
   ],
   "source": [
    "print(metrics.classification_report(y_test, y_pred))"
   ]
  },
  {
   "cell_type": "code",
   "execution_count": 58,
   "id": "c63f7159",
   "metadata": {},
   "outputs": [
    {
     "data": {
      "text/plain": [
       "0"
      ]
     },
     "execution_count": 58,
     "metadata": {},
     "output_type": "execute_result"
    }
   ],
   "source": [
    "int(int(clf.predict(X_train[0:1])))"
   ]
  },
  {
   "cell_type": "code",
   "execution_count": 59,
   "id": "9ce0dde4",
   "metadata": {},
   "outputs": [
    {
     "data": {
      "text/html": [
       "<style>#sk-container-id-3 {color: black;background-color: white;}#sk-container-id-3 pre{padding: 0;}#sk-container-id-3 div.sk-toggleable {background-color: white;}#sk-container-id-3 label.sk-toggleable__label {cursor: pointer;display: block;width: 100%;margin-bottom: 0;padding: 0.3em;box-sizing: border-box;text-align: center;}#sk-container-id-3 label.sk-toggleable__label-arrow:before {content: \"▸\";float: left;margin-right: 0.25em;color: #696969;}#sk-container-id-3 label.sk-toggleable__label-arrow:hover:before {color: black;}#sk-container-id-3 div.sk-estimator:hover label.sk-toggleable__label-arrow:before {color: black;}#sk-container-id-3 div.sk-toggleable__content {max-height: 0;max-width: 0;overflow: hidden;text-align: left;background-color: #f0f8ff;}#sk-container-id-3 div.sk-toggleable__content pre {margin: 0.2em;color: black;border-radius: 0.25em;background-color: #f0f8ff;}#sk-container-id-3 input.sk-toggleable__control:checked~div.sk-toggleable__content {max-height: 200px;max-width: 100%;overflow: auto;}#sk-container-id-3 input.sk-toggleable__control:checked~label.sk-toggleable__label-arrow:before {content: \"▾\";}#sk-container-id-3 div.sk-estimator input.sk-toggleable__control:checked~label.sk-toggleable__label {background-color: #d4ebff;}#sk-container-id-3 div.sk-label input.sk-toggleable__control:checked~label.sk-toggleable__label {background-color: #d4ebff;}#sk-container-id-3 input.sk-hidden--visually {border: 0;clip: rect(1px 1px 1px 1px);clip: rect(1px, 1px, 1px, 1px);height: 1px;margin: -1px;overflow: hidden;padding: 0;position: absolute;width: 1px;}#sk-container-id-3 div.sk-estimator {font-family: monospace;background-color: #f0f8ff;border: 1px dotted black;border-radius: 0.25em;box-sizing: border-box;margin-bottom: 0.5em;}#sk-container-id-3 div.sk-estimator:hover {background-color: #d4ebff;}#sk-container-id-3 div.sk-parallel-item::after {content: \"\";width: 100%;border-bottom: 1px solid gray;flex-grow: 1;}#sk-container-id-3 div.sk-label:hover label.sk-toggleable__label {background-color: #d4ebff;}#sk-container-id-3 div.sk-serial::before {content: \"\";position: absolute;border-left: 1px solid gray;box-sizing: border-box;top: 0;bottom: 0;left: 50%;z-index: 0;}#sk-container-id-3 div.sk-serial {display: flex;flex-direction: column;align-items: center;background-color: white;padding-right: 0.2em;padding-left: 0.2em;position: relative;}#sk-container-id-3 div.sk-item {position: relative;z-index: 1;}#sk-container-id-3 div.sk-parallel {display: flex;align-items: stretch;justify-content: center;background-color: white;position: relative;}#sk-container-id-3 div.sk-item::before, #sk-container-id-3 div.sk-parallel-item::before {content: \"\";position: absolute;border-left: 1px solid gray;box-sizing: border-box;top: 0;bottom: 0;left: 50%;z-index: -1;}#sk-container-id-3 div.sk-parallel-item {display: flex;flex-direction: column;z-index: 1;position: relative;background-color: white;}#sk-container-id-3 div.sk-parallel-item:first-child::after {align-self: flex-end;width: 50%;}#sk-container-id-3 div.sk-parallel-item:last-child::after {align-self: flex-start;width: 50%;}#sk-container-id-3 div.sk-parallel-item:only-child::after {width: 0;}#sk-container-id-3 div.sk-dashed-wrapped {border: 1px dashed gray;margin: 0 0.4em 0.5em 0.4em;box-sizing: border-box;padding-bottom: 0.4em;background-color: white;}#sk-container-id-3 div.sk-label label {font-family: monospace;font-weight: bold;display: inline-block;line-height: 1.2em;}#sk-container-id-3 div.sk-label-container {text-align: center;}#sk-container-id-3 div.sk-container {/* jupyter's `normalize.less` sets `[hidden] { display: none; }` but bootstrap.min.css set `[hidden] { display: none !important; }` so we also need the `!important` here to be able to override the default hidden behavior on the sphinx rendered scikit-learn.org. See: https://github.com/scikit-learn/scikit-learn/issues/21755 */display: inline-block !important;position: relative;}#sk-container-id-3 div.sk-text-repr-fallback {display: none;}</style><div id=\"sk-container-id-3\" class=\"sk-top-container\"><div class=\"sk-text-repr-fallback\"><pre>SVC(C=100.0, gamma=0.1)</pre><b>In a Jupyter environment, please rerun this cell to show the HTML representation or trust the notebook. <br />On GitHub, the HTML representation is unable to render, please try loading this page with nbviewer.org.</b></div><div class=\"sk-container\" hidden><div class=\"sk-item\"><div class=\"sk-estimator sk-toggleable\"><input class=\"sk-toggleable__control sk-hidden--visually\" id=\"sk-estimator-id-5\" type=\"checkbox\" checked><label for=\"sk-estimator-id-5\" class=\"sk-toggleable__label sk-toggleable__label-arrow\">SVC</label><div class=\"sk-toggleable__content\"><pre>SVC(C=100.0, gamma=0.1)</pre></div></div></div></div></div>"
      ],
      "text/plain": [
       "SVC(C=100.0, gamma=0.1)"
      ]
     },
     "execution_count": 59,
     "metadata": {},
     "output_type": "execute_result"
    }
   ],
   "source": [
    "clf = svm.SVC(C=100.0, cache_size=200, class_weight=None, coef0=0.0,\n",
    "  decision_function_shape='ovr', degree=3, gamma=0.1, kernel='rbf',\n",
    "  max_iter=-1, probability=False, random_state=None, shrinking=True,\n",
    "  tol=0.001, verbose=False)\n",
    "clf.fit(X_train,y_train)"
   ]
  },
  {
   "cell_type": "code",
   "execution_count": 60,
   "id": "eb923a27",
   "metadata": {},
   "outputs": [],
   "source": [
    "y_pred = clf.predict(X_test)"
   ]
  },
  {
   "cell_type": "code",
   "execution_count": 61,
   "id": "9736f612",
   "metadata": {},
   "outputs": [
    {
     "data": {
      "text/plain": [
       "0.9876543209876543"
      ]
     },
     "execution_count": 61,
     "metadata": {},
     "output_type": "execute_result"
    }
   ],
   "source": [
    "metrics.accuracy_score(y_test, y_pred)"
   ]
  },
  {
   "cell_type": "code",
   "execution_count": null,
   "id": "0487b388",
   "metadata": {},
   "outputs": [],
   "source": []
  }
 ],
 "metadata": {
  "kernelspec": {
   "display_name": "Python 3 (ipykernel)",
   "language": "python",
   "name": "python3"
  },
  "language_info": {
   "codemirror_mode": {
    "name": "ipython",
    "version": 3
   },
   "file_extension": ".py",
   "mimetype": "text/x-python",
   "name": "python",
   "nbconvert_exporter": "python",
   "pygments_lexer": "ipython3",
   "version": "3.10.9"
  }
 },
 "nbformat": 4,
 "nbformat_minor": 5
}
